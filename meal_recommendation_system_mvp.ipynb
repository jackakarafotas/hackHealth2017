{
 "cells": [
  {
   "cell_type": "code",
   "execution_count": 1,
   "metadata": {
    "collapsed": true
   },
   "outputs": [],
   "source": [
    "import pandas as pd\n",
    "import numpy as np\n",
    "import copy\n",
    "from geopy.geocoders import Nominatim\n",
    "from geopy.distance import vincenty"
   ]
  },
  {
   "cell_type": "code",
   "execution_count": 2,
   "metadata": {
    "collapsed": false
   },
   "outputs": [],
   "source": [
    "eat_in = pd.read_csv('data/eat_in.csv').dropna(how='all')\n",
    "eat_out = pd.read_csv('data/eat_out.csv').dropna(how='all')\n",
    "profiles = pd.read_csv('data/profiles.csv').dropna(how='all')"
   ]
  },
  {
   "cell_type": "code",
   "execution_count": 3,
   "metadata": {
    "collapsed": false
   },
   "outputs": [],
   "source": [
    "# Convert to metric\n",
    "profiles['weight'] = profiles['weight'] * 0.453592\n",
    "profiles['height'] = profiles['height'] * 2.54\n",
    "profiles['preferences'] = profiles['preferences'].apply(lambda x : x.lower().split('_'))\n",
    "profiles['location'] = profiles['location'].apply(lambda lst: tuple([float(x) for x in lst[1:-1].split(',')]))\n",
    "profiles.index.name = 'id'"
   ]
  },
  {
   "cell_type": "code",
   "execution_count": 4,
   "metadata": {
    "collapsed": false
   },
   "outputs": [],
   "source": [
    "eat_out.columns = [x.lower() for x in eat_out.columns]\n",
    "eat_out['price'] = eat_out.price.apply(lambda x: float(x[1:]))\n",
    "\n",
    "eat_in.columns = [x.lower() for x in eat_in.columns]\n",
    "eat_in['price low'] = eat_in['price low'].apply(lambda x: float(x[1:]))\n",
    "eat_in['price high'] = eat_in['price high'].apply(lambda x: float(x[1:]))\n",
    "eat_in['price'] = eat_in[['price low','price high']].mean(axis=1)"
   ]
  },
  {
   "cell_type": "code",
   "execution_count": 5,
   "metadata": {
    "collapsed": true
   },
   "outputs": [],
   "source": [
    "def fill_missing_profile(series):\n",
    "    if str(series['age']) == 'nan':\n",
    "        series['age'] = 30\n",
    "    \n",
    "    if str(series['sex']) == 'nan':\n",
    "        if str(series['weight']) == 'nan':\n",
    "            series['weight'] = 81.5\n",
    "        if str(series['height']) == 'nan':\n",
    "            series['height'] = 169.7\n",
    "        if str(series['age']) == 'nan':\n",
    "            series['age'] = 30\n",
    "    elif str(series['sex']) == 'M':\n",
    "        if str(series['weight']) == 'nan':\n",
    "            series['weight'] = 88.3\n",
    "        if str(series['height']) == 'nan':\n",
    "            series['height'] = 176.4\n",
    "        if str(series['age']) == 'nan':\n",
    "            series['age'] = 30\n",
    "    elif str(series['sex']) == 'F':\n",
    "        if str(series['weight']) == 'nan':\n",
    "            series['weight'] = 74.7\n",
    "        if str(series['height']) == 'nan':\n",
    "            series['height'] = 162.9\n",
    "        if str(series['age']) == 'nan':\n",
    "            series['age'] = 30\n",
    "            \n",
    "    return series"
   ]
  },
  {
   "cell_type": "code",
   "execution_count": 6,
   "metadata": {
    "collapsed": true
   },
   "outputs": [],
   "source": [
    "def get_bmr(series):\n",
    "    \n",
    "    if series['sex'] == 'M':\n",
    "        bmr = (10 * series['weight']) + (6.25 * series['height']) - (5 * series['age']) + 5\n",
    "    elif series['sex'] == 'F':\n",
    "        bmr = (10 * series['weight']) + (6.25 * series['height']) - (5 * series['age']) - 161\n",
    "    else:\n",
    "        bmr = (10 * series['weight']) + (6.25 * series['height']) - (5 * series['age']) - 78\n",
    "        \n",
    "    if series['activity level'] == 'little to no':\n",
    "        bmr *= 1.2\n",
    "    elif series['activity level'] == 'light':\n",
    "        bmr *= 1.375\n",
    "    elif series['activity level'] == 'moderate':\n",
    "        bmr *= 1.55\n",
    "    elif series['activity level'] == 'heavy':\n",
    "        bmr *= 1.725\n",
    "    elif series['activity level'] == 'very heavy':\n",
    "        bmr *= 1.9\n",
    "    else: \n",
    "        bmr *= 1.3\n",
    "        \n",
    "    return round(bmr,2)"
   ]
  },
  {
   "cell_type": "code",
   "execution_count": 7,
   "metadata": {
    "collapsed": false
   },
   "outputs": [],
   "source": [
    "def get_daily_macros(series,bmr,grams=True):\n",
    "    protein = round(2.2 * series['weight'],2)\n",
    "    protein_cal = round(4 * protein,2)\n",
    "    \n",
    "    fat = round(0.4 * 2.2 * series['weight'],2)\n",
    "    fat_cal = round(9 * fat,2)\n",
    "    \n",
    "    carb_cal = round(bmr - protein_cal - fat_cal,2)\n",
    "    carb = round(carb_cal / 4,2)\n",
    "    \n",
    "    if grams:\n",
    "        return protein, fat, carb\n",
    "    else:\n",
    "        return protein_cal, fat_cal, carb_cal"
   ]
  },
  {
   "cell_type": "code",
   "execution_count": 8,
   "metadata": {
    "collapsed": false
   },
   "outputs": [],
   "source": [
    "def get_nutrition(df):\n",
    "    columns = ['calories','protein','fat','carb']\n",
    "    for col in columns:\n",
    "        df[col] = np.nan\n",
    "    \n",
    "    for index,row in df.iterrows():\n",
    "        test_profile = fill_missing_profile(row)\n",
    "        \n",
    "        bmr = get_bmr(test_profile)\n",
    "        protein, fat, carb = get_daily_macros(test_profile,bmr,grams=True)\n",
    "        \n",
    "        df.loc[index,'calories'] = bmr\n",
    "        df.loc[index,'protein'] = protein\n",
    "        df.loc[index,'fat'] = fat\n",
    "        df.loc[index,'carb'] = carb\n",
    "        \n",
    "    return df"
   ]
  },
  {
   "cell_type": "code",
   "execution_count": 9,
   "metadata": {
    "collapsed": false
   },
   "outputs": [],
   "source": [
    "profiles = get_nutrition(profiles)"
   ]
  },
  {
   "cell_type": "code",
   "execution_count": 10,
   "metadata": {
    "collapsed": false
   },
   "outputs": [],
   "source": [
    "def get_preference_list():\n",
    "    preferences_lst = [\n",
    "        'fast food',\n",
    "        'mexican',\n",
    "        'thai',\n",
    "        'indian',\n",
    "        'chinese',\n",
    "        'japanese',\n",
    "        'caribbean',\n",
    "        'mediterranean',\n",
    "        'vegetarian',\n",
    "        'vegan',\n",
    "        'sandwiches',\n",
    "        'american',\n",
    "        'meat',\n",
    "        'seafood',\n",
    "    ]\n",
    "    return preferences_lst\n",
    "\n",
    "def get_preference_signal(series,eat_df):\n",
    "    preferences_lst = get_preference_list()\n",
    "    pref_dummies = pd.get_dummies(series['preferences'])\n",
    "    for pref in preferences_lst:\n",
    "        if pref not in pref_dummies.columns:\n",
    "            pref_dummies[pref] = 0.4 # loss if missing preferences match, 1-0.4 = loss if meal has type but profile doesn't\n",
    "    pref_one_hot = pref_dummies.max()\n",
    "    \n",
    "    loss = pd.Series(index=eat_df.index)\n",
    "    for index, row in eat_df[preferences_lst].iterrows():\n",
    "        loss[index] = (pref_one_hot - row.astype(int)).apply(lambda x : abs(x)).sum()\n",
    "        \n",
    "    norm_loss = loss - loss.min()\n",
    "    norm_loss = norm_loss / norm_loss.max()\n",
    "    \n",
    "    return norm_loss"
   ]
  },
  {
   "cell_type": "code",
   "execution_count": 11,
   "metadata": {
    "collapsed": true
   },
   "outputs": [],
   "source": [
    "eat_out_signals = pd.DataFrame(columns=['preference','macros','distance','cost','sugar','sodium'])"
   ]
  },
  {
   "cell_type": "code",
   "execution_count": 12,
   "metadata": {
    "collapsed": false
   },
   "outputs": [],
   "source": [
    "num_cols = [\n",
    "    'price',\n",
    "    'fat (g)',\n",
    "    'carb (g)',\n",
    "    'protein (g)',\n",
    "    'sugar (g)',\n",
    "    'sodium (mg)',\n",
    "    'calories',\n",
    "]\n",
    "\n",
    "eat_out_double = copy.deepcopy(eat_out)\n",
    "eat_out_double['meal title'] = eat_out_double['meal title'].apply(lambda x: x + ' x2')\n",
    "eat_out_double[num_cols] = eat_out[num_cols] * 2\n",
    "eat_out_full = eat_out.append(eat_out_double,ignore_index=True)\n",
    "\n",
    "eat_out_full.rename(columns={'fat (g)' : 'fat',\n",
    "                             'carb (g)' : 'carb',\n",
    "                             'protein (g)' : 'protein',\n",
    "                             'sugar (g)' : 'sugar',\n",
    "                             'sodium (mg)' : 'sodium'},\n",
    "                   inplace=True)\n",
    "\n",
    "num_cols = [\n",
    "    'price low',\n",
    "    'price high',\n",
    "    'fat (g)',\n",
    "    'carb (g)',\n",
    "    'protein (g)',\n",
    "    'sugar (g)',\n",
    "    'sodium (mg)',\n",
    "    'calories',\n",
    "]\n",
    "\n",
    "eat_in_double = copy.deepcopy(eat_in)\n",
    "eat_in_double['meal title'] = eat_in_double['meal title'].apply(lambda x: x + ' x2')\n",
    "eat_in_double[num_cols] = eat_in[num_cols] * 2\n",
    "eat_in_full = eat_in.append(eat_in_double,ignore_index=True)\n",
    "\n",
    "eat_in_full.rename(columns={'fat (g)' : 'fat',\n",
    "                            'carb (g)' : 'carb',\n",
    "                            'protein (g)' : 'protein',\n",
    "                            'sugar (g)' : 'sugar',\n",
    "                            'sodium (mg)' : 'sodium'},\n",
    "                   inplace=True)"
   ]
  },
  {
   "cell_type": "code",
   "execution_count": 13,
   "metadata": {
    "collapsed": false
   },
   "outputs": [],
   "source": [
    "def get_macros_signal(series,eat_df):\n",
    "    macro_lst = ['calories','protein','fat','carb']\n",
    "    ideal_macros = series[macro_lst] / 3\n",
    "    \n",
    "    loss = (eat_df[macro_lst] - ideal_macros).abs()\n",
    "    norm_loss = loss / loss.max()\n",
    "    \n",
    "    calories = norm_loss['calories']\n",
    "    protein = norm_loss['protein']\n",
    "    fat = norm_loss['fat']\n",
    "    carb = norm_loss['carb']\n",
    "    \n",
    "    average_loss = norm_loss.mean(axis=1)\n",
    "    \n",
    "    return average_loss"
   ]
  },
  {
   "cell_type": "code",
   "execution_count": 14,
   "metadata": {
    "collapsed": true
   },
   "outputs": [],
   "source": [
    "def get_coords(eat_df,coord_dict):\n",
    "    eat_df['latitude'] = np.nan\n",
    "    eat_df['longitude'] = np.nan\n",
    "\n",
    "    for index, row in eat_df.iterrows():\n",
    "        eat_df.loc[index,['latitude','longitude']] = coord_dict[row['location']]\n",
    "        \n",
    "    eat_df['coordinates'] = list(zip(eat_df['latitude'],eat_df['longitude']))\n",
    "    del eat_df['latitude']\n",
    "    del eat_df['longitude']\n",
    "        \n",
    "    return eat_df\n",
    "\n",
    "def get_distance_signal(series,eat_df):\n",
    "    geolocator = Nominatim()\n",
    "    location_dict = {key : geolocator.geocode(key)[-1] for key in eat_df['location'].unique()}\n",
    "    eat_df = get_coords(eat_df,location_dict)\n",
    "    \n",
    "    distances = pd.Series(index=eat_df.index)\n",
    "    for index,row in eat_df.iterrows():\n",
    "        distances[index] = vincenty(row['coordinates'], series['location']).miles\n",
    "        \n",
    "    distances = distances / distances.max()\n",
    "        \n",
    "    return distances"
   ]
  },
  {
   "cell_type": "code",
   "execution_count": 15,
   "metadata": {
    "collapsed": true
   },
   "outputs": [],
   "source": [
    "def get_cost_signal(series,eat_df):\n",
    "    return eat_df['price'] / eat_df['price'].max()"
   ]
  },
  {
   "cell_type": "code",
   "execution_count": 16,
   "metadata": {
    "collapsed": true
   },
   "outputs": [],
   "source": [
    "def get_sugar_signal(series,eat_df):\n",
    "    return eat_df['sugar'] / eat_df['sugar'].max()"
   ]
  },
  {
   "cell_type": "code",
   "execution_count": 21,
   "metadata": {
    "collapsed": true
   },
   "outputs": [],
   "source": [
    "def get_sodium_signal(series,eat_df):\n",
    "    return eat_df['sodium'] / eat_df['sodium'].max()"
   ]
  },
  {
   "cell_type": "code",
   "execution_count": 27,
   "metadata": {
    "collapsed": false
   },
   "outputs": [],
   "source": [
    "def get_function():\n",
    "    function_dict = {\n",
    "        'preferences' : get_preference_signal,\n",
    "        'macros' : get_macros_signal,\n",
    "        'distance' : get_distance_signal,\n",
    "        'cost' : get_cost_signal,\n",
    "        'sugar' : get_sugar_signal,\n",
    "        'sodium' : get_sodium_signal,\n",
    "    }\n",
    "    return function_dict\n",
    "\n",
    "def get_weights():\n",
    "    weights = {\n",
    "        'preferences' : 0.25,\n",
    "        'macros' : 0.3,\n",
    "        'distance' : 0.15,\n",
    "        'cost' : 0.2,\n",
    "        'sugar' : 0.05,\n",
    "        'sodium' : 0.05,\n",
    "    }\n",
    "    return weights\n",
    "\n",
    "def get_loss(series,eat_df):\n",
    "    weights = get_weights()\n",
    "    function_dict = get_function()\n",
    "    \n",
    "    sum_weights = sum(weights.values())\n",
    "    weights = {key :(weights[key] / sum_weights) for key in weights.keys()}\n",
    "    \n",
    "    loss = pd.Series(0,index=eat_df.index)\n",
    "    \n",
    "    for signal in function_dict.keys():\n",
    "        loss[:] += weights[signal] * function_dict[signal](series,eat_df)\n",
    "        \n",
    "    return loss"
   ]
  },
  {
   "cell_type": "code",
   "execution_count": 36,
   "metadata": {
    "collapsed": true
   },
   "outputs": [],
   "source": [
    "def getLoss(profile_df,eat_df):\n",
    "    loss_df = pd.DataFrame(index=profile_df.index,columns=eat_df.index)\n",
    "    \n",
    "    for index,row in profile_df.iterrows():\n",
    "        loss_df.loc[index,:] = get_loss(row,eat_df)\n",
    "        \n",
    "    loss_df.columns.name = 'meal_id'\n",
    "    loss_df.index.name = 'client_id'\n",
    "    \n",
    "    return loss_df"
   ]
  },
  {
   "cell_type": "code",
   "execution_count": 37,
   "metadata": {
    "collapsed": false
   },
   "outputs": [],
   "source": [
    "eat_in_loss = getLoss(profiles,eat_in_full)\n",
    "eat_out_loss = getLoss(profiles,eat_out_full)"
   ]
  },
  {
   "cell_type": "code",
   "execution_count": 117,
   "metadata": {
    "collapsed": true
   },
   "outputs": [],
   "source": [
    "def topnLoss(profile_df,eat_df,n=5):\n",
    "    eat_cols = [\n",
    "        'resaurant',\n",
    "        'location',\n",
    "        'foodstamps',\n",
    "        'delivery',\n",
    "        'meal title',\n",
    "        'price',\n",
    "        'fat',\n",
    "        'carb',\n",
    "        'protein',\n",
    "        'sugar',\n",
    "        'sodium',\n",
    "        'calories',\n",
    "    ]\n",
    "    \n",
    "    profile_cols = ['name_first', 'name_last']\n",
    "    \n",
    "    report = pd.DataFrame(index=np.arange(len(profile_df.index)*n),columns=profile_cols+['client_id','meal_id','loss']+eat_cols)\n",
    "    loss_matrix = getLoss(profile_df,eat_df)\n",
    "    \n",
    "    init = 0\n",
    "    for profile_id in profile_df.index:\n",
    "        print('Client ID:',profile_id)\n",
    "        report.loc[init:init+n-1,'client_id'] = profile_id\n",
    "        report.loc[init:init+n-1,profile_cols] = profile_df.loc[profile_id,profile_cols].values\n",
    "\n",
    "        topn = loss_matrix.T[profile_id].astype(float).nsmallest(n=n)\n",
    "        topn_ids = topn.index.tolist()\n",
    "        topn_loss = round(topn,2).values.tolist()\n",
    "        \n",
    "        report.loc[init:init+n-1,'meal_id'] = topn_ids\n",
    "        report.loc[init:init+n-1,'loss'] = topn_loss\n",
    "        report.loc[init:init+n-1,eat_cols] = eat_df.loc[topn_ids,eat_cols].values\n",
    "        \n",
    "        init += n\n",
    "        \n",
    "    return report"
   ]
  },
  {
   "cell_type": "code",
   "execution_count": 123,
   "metadata": {
    "collapsed": false
   },
   "outputs": [
    {
     "name": "stdout",
     "output_type": "stream",
     "text": [
      "Client ID: 0\n",
      "Client ID: 1\n"
     ]
    }
   ],
   "source": [
    "report_out = topnLoss(profiles,eat_out_full,n=5)\n",
    "report_out.to_csv('top_recs_out.csv')"
   ]
  },
  {
   "cell_type": "code",
   "execution_count": 121,
   "metadata": {
    "collapsed": false
   },
   "outputs": [
    {
     "name": "stdout",
     "output_type": "stream",
     "text": [
      "Client ID: 0\n",
      "Client ID: 1\n"
     ]
    }
   ],
   "source": [
    "report_in = topnLoss(profiles,eat_in_full,n=5)\n",
    "report_in.to_csv('top_recs_in.csv')"
   ]
  }
 ],
 "metadata": {
  "kernelspec": {
   "display_name": "Python 3",
   "language": "python",
   "name": "python3"
  },
  "language_info": {
   "codemirror_mode": {
    "name": "ipython",
    "version": 3
   },
   "file_extension": ".py",
   "mimetype": "text/x-python",
   "name": "python",
   "nbconvert_exporter": "python",
   "pygments_lexer": "ipython3",
   "version": "3.5.2"
  }
 },
 "nbformat": 4,
 "nbformat_minor": 2
}
