{
 "cells": [
  {
   "cell_type": "code",
   "execution_count": 58,
   "metadata": {
    "collapsed": true
   },
   "outputs": [],
   "source": [
    "import pandas as pd\n",
    "import numpy as np"
   ]
  },
  {
   "cell_type": "code",
   "execution_count": 98,
   "metadata": {
    "collapsed": false
   },
   "outputs": [],
   "source": [
    "eat_in = pd.read_csv('data/eat_in.csv').dropna(how='all')\n",
    "eat_out = pd.read_csv('data/eat_out.csv').dropna(how='all')\n",
    "profiles = pd.read_csv('data/profiles.csv').dropna(how='all')"
   ]
  },
  {
   "cell_type": "code",
   "execution_count": 99,
   "metadata": {
    "collapsed": false
   },
   "outputs": [],
   "source": [
    "# Convert to metric\n",
    "profiles['weight'] = profiles['weight'] * 0.453592\n",
    "profiles['height'] = profiles['height'] * 2.54\n",
    "profiles['preferences'] = profiles['preferences'].apply(lambda x : x.lower().split('_'))\n",
    "profiles.index.name = 'id'"
   ]
  },
  {
   "cell_type": "code",
   "execution_count": 100,
   "metadata": {
    "collapsed": true
   },
   "outputs": [],
   "source": [
    "def fill_missing_profile(series):\n",
    "    if str(series['age']) == 'nan':\n",
    "        series['age'] = 30\n",
    "    \n",
    "    if str(series['sex']) == 'nan':\n",
    "        if str(series['weight']) == 'nan':\n",
    "            series['weight'] = 81.5\n",
    "        if str(series['height']) == 'nan':\n",
    "            series['height'] = 169.7\n",
    "        if str(series['age']) == 'nan':\n",
    "            series['age'] = 30\n",
    "    elif str(series['sex']) == 'M':\n",
    "        if str(series['weight']) == 'nan':\n",
    "            series['weight'] = 88.3\n",
    "        if str(series['height']) == 'nan':\n",
    "            series['height'] = 176.4\n",
    "        if str(series['age']) == 'nan':\n",
    "            series['age'] = 30\n",
    "    elif str(series['sex']) == 'F':\n",
    "        if str(series['weight']) == 'nan':\n",
    "            series['weight'] = 74.7\n",
    "        if str(series['height']) == 'nan':\n",
    "            series['height'] = 162.9\n",
    "        if str(series['age']) == 'nan':\n",
    "            series['age'] = 30\n",
    "            \n",
    "    return series"
   ]
  },
  {
   "cell_type": "code",
   "execution_count": 101,
   "metadata": {
    "collapsed": true
   },
   "outputs": [],
   "source": [
    "def get_bmr(series):\n",
    "    \n",
    "    if series['sex'] == 'M':\n",
    "        bmr = (10 * series['weight']) + (6.25 * series['height']) - (5 * series['age']) + 5\n",
    "    elif series['sex'] == 'F':\n",
    "        bmr = (10 * series['weight']) + (6.25 * series['height']) - (5 * series['age']) - 161\n",
    "    else:\n",
    "        bmr = (10 * series['weight']) + (6.25 * series['height']) - (5 * series['age']) - 78\n",
    "        \n",
    "    if series['activity level'] == 'little to no':\n",
    "        bmr *= 1.2\n",
    "    elif series['activity level'] == 'light':\n",
    "        bmr *= 1.375\n",
    "    elif series['activity level'] == 'moderate':\n",
    "        bmr *= 1.55\n",
    "    elif series['activity level'] == 'heavy':\n",
    "        bmr *= 1.725\n",
    "    elif series['activity level'] == 'very heavy':\n",
    "        bmr *= 1.9\n",
    "    else: \n",
    "        bmr *= 1.3\n",
    "        \n",
    "    return round(bmr,2)"
   ]
  },
  {
   "cell_type": "code",
   "execution_count": 102,
   "metadata": {
    "collapsed": false
   },
   "outputs": [],
   "source": [
    "def get_daily_macros(series,bmr,grams=True):\n",
    "    protein = round(2.2 * series['weight'],2)\n",
    "    protein_cal = round(4 * protein,2)\n",
    "    \n",
    "    fat = round(0.4 * 2.2 * series['weight'],2)\n",
    "    fat_cal = round(9 * fat,2)\n",
    "    \n",
    "    carb_cal = round(bmr - protein_cal - fat_cal,2)\n",
    "    carb = round(carb_cal / 4,2)\n",
    "    \n",
    "    if grams:\n",
    "        return protein, fat, carb\n",
    "    else:\n",
    "        return protein_cal, fat_cal, carb_cal"
   ]
  },
  {
   "cell_type": "code",
   "execution_count": 103,
   "metadata": {
    "collapsed": false
   },
   "outputs": [],
   "source": [
    "def get_nutrition(df):\n",
    "    columns = ['calories','protein','fat','carb']\n",
    "    for col in columns:\n",
    "        df[col] = np.nan\n",
    "    \n",
    "    for index,row in df.iterrows():\n",
    "        test_profile = fill_missing_profile(row)\n",
    "        \n",
    "        bmr = get_bmr(test_profile)\n",
    "        protein, fat, carb = get_daily_macros(test_profile,bmr,grams=True)\n",
    "        \n",
    "        df.loc[index,'calories'] = bmr\n",
    "        df.loc[index,'protein'] = protein\n",
    "        df.loc[index,'fat'] = fat\n",
    "        df.loc[index,'carb'] = carb\n",
    "        \n",
    "    return df"
   ]
  },
  {
   "cell_type": "code",
   "execution_count": 104,
   "metadata": {
    "collapsed": false
   },
   "outputs": [
    {
     "data": {
      "text/html": [
       "<div>\n",
       "<table border=\"1\" class=\"dataframe\">\n",
       "  <thead>\n",
       "    <tr style=\"text-align: right;\">\n",
       "      <th></th>\n",
       "      <th>name_first</th>\n",
       "      <th>name_last</th>\n",
       "      <th>telephone number</th>\n",
       "      <th>time</th>\n",
       "      <th>location</th>\n",
       "      <th>sex</th>\n",
       "      <th>height</th>\n",
       "      <th>weight</th>\n",
       "      <th>activity level</th>\n",
       "      <th>age</th>\n",
       "      <th>preferences</th>\n",
       "      <th>calories</th>\n",
       "      <th>protein</th>\n",
       "      <th>fat</th>\n",
       "      <th>carb</th>\n",
       "    </tr>\n",
       "    <tr>\n",
       "      <th>id</th>\n",
       "      <th></th>\n",
       "      <th></th>\n",
       "      <th></th>\n",
       "      <th></th>\n",
       "      <th></th>\n",
       "      <th></th>\n",
       "      <th></th>\n",
       "      <th></th>\n",
       "      <th></th>\n",
       "      <th></th>\n",
       "      <th></th>\n",
       "      <th></th>\n",
       "      <th></th>\n",
       "      <th></th>\n",
       "      <th></th>\n",
       "    </tr>\n",
       "  </thead>\n",
       "  <tbody>\n",
       "    <tr>\n",
       "      <th>0</th>\n",
       "      <td>Josiah</td>\n",
       "      <td>Carberry</td>\n",
       "      <td>(401) 863-1000</td>\n",
       "      <td>11:02</td>\n",
       "      <td>222 Richmond St, Providence, RI 02903</td>\n",
       "      <td>M</td>\n",
       "      <td>172.72</td>\n",
       "      <td>68.0388</td>\n",
       "      <td>light</td>\n",
       "      <td>21.0</td>\n",
       "      <td>[mediterranean, mexican, meat, sandwiches]</td>\n",
       "      <td>2282.35</td>\n",
       "      <td>149.69</td>\n",
       "      <td>59.87</td>\n",
       "      <td>286.19</td>\n",
       "    </tr>\n",
       "    <tr>\n",
       "      <th>1</th>\n",
       "      <td>Josie</td>\n",
       "      <td>Carberry</td>\n",
       "      <td>(401) 276-966</td>\n",
       "      <td>5:35</td>\n",
       "      <td>94 Meeting St, Providence, RI 02906</td>\n",
       "      <td>NaN</td>\n",
       "      <td>NaN</td>\n",
       "      <td>NaN</td>\n",
       "      <td>NaN</td>\n",
       "      <td>NaN</td>\n",
       "      <td>[thai, japanese, vegetarian]</td>\n",
       "      <td>2141.91</td>\n",
       "      <td>179.30</td>\n",
       "      <td>71.72</td>\n",
       "      <td>194.81</td>\n",
       "    </tr>\n",
       "  </tbody>\n",
       "</table>\n",
       "</div>"
      ],
      "text/plain": [
       "   name_first name_last telephone number   time  \\\n",
       "id                                                \n",
       "0      Josiah  Carberry   (401) 863-1000  11:02   \n",
       "1       Josie  Carberry    (401) 276-966   5:35   \n",
       "\n",
       "                                 location  sex  height   weight  \\\n",
       "id                                                                \n",
       "0   222 Richmond St, Providence, RI 02903    M  172.72  68.0388   \n",
       "1     94 Meeting St, Providence, RI 02906  NaN     NaN      NaN   \n",
       "\n",
       "   activity level   age                                 preferences  calories  \\\n",
       "id                                                                              \n",
       "0           light  21.0  [mediterranean, mexican, meat, sandwiches]   2282.35   \n",
       "1             NaN   NaN                [thai, japanese, vegetarian]   2141.91   \n",
       "\n",
       "    protein    fat    carb  \n",
       "id                          \n",
       "0    149.69  59.87  286.19  \n",
       "1    179.30  71.72  194.81  "
      ]
     },
     "execution_count": 104,
     "metadata": {},
     "output_type": "execute_result"
    }
   ],
   "source": [
    "get_nutrition(profiles)"
   ]
  },
  {
   "cell_type": "code",
   "execution_count": 105,
   "metadata": {
    "collapsed": true
   },
   "outputs": [],
   "source": [
    "average_meal_df = pd.DataFrame(index=['breakfast','lunch','dinner'],columns=['calories','protein','fat','carb'])\n",
    "\n",
    "average_meal_df.loc['breakfast','calories'] = 700\n",
    "average_meal_df.loc['breakfast','protein'] = 60\n",
    "average_meal_df.loc['breakfast','fat'] = 24\n",
    "average_meal_df.loc['breakfast','carb'] = 65\n",
    "\n",
    "average_meal_df.loc['lunch','calories'] = 700\n",
    "average_meal_df.loc['lunch','protein'] = 60\n",
    "average_meal_df.loc['lunch','fat'] = 24\n",
    "average_meal_df.loc['lunch','carb'] = 65\n",
    "\n",
    "average_meal_df.loc['dinner','calories'] = 700\n",
    "average_meal_df.loc['dinner','protein'] = 60\n",
    "average_meal_df.loc['dinner','fat'] = 24\n",
    "average_meal_df.loc['dinner','carb'] = 65"
   ]
  },
  {
   "cell_type": "code",
   "execution_count": 106,
   "metadata": {
    "collapsed": false
   },
   "outputs": [],
   "source": [
    "eat_out.columns = [x.lower() for x in eat_out.columns]"
   ]
  },
  {
   "cell_type": "code",
   "execution_count": 107,
   "metadata": {
    "collapsed": false
   },
   "outputs": [
    {
     "data": {
      "text/plain": [
       "Index(['resaurant', 'location', 'foodstamps', 'delivery', 'meal title',\n",
       "       'price', 'fat (g)', 'carb (g)', 'protein (g)', 'sugar (g)',\n",
       "       'sodium (mg)', 'calories', 'fast food', 'mexican', 'thai', 'indian',\n",
       "       'chinese', 'japanese', 'caribbean', 'mediterranean', 'vegetarian',\n",
       "       'vegan', 'sandwiches', 'american', 'meat', 'seafood'],\n",
       "      dtype='object')"
      ]
     },
     "execution_count": 107,
     "metadata": {},
     "output_type": "execute_result"
    }
   ],
   "source": [
    "eat_out.columns"
   ]
  },
  {
   "cell_type": "code",
   "execution_count": 108,
   "metadata": {
    "collapsed": false
   },
   "outputs": [],
   "source": [
    "preferences_lst = [\n",
    "    'fast food',\n",
    "    'mexican',\n",
    "    'thai',\n",
    "    'indian',\n",
    "    'chinese',\n",
    "    'japanese',\n",
    "    'caribbean',\n",
    "    'mediterranean',\n",
    "    'vegetarian',\n",
    "    'vegan',\n",
    "    'sandwiches',\n",
    "    'american',\n",
    "    'meat',\n",
    "    'seafood',\n",
    "]"
   ]
  },
  {
   "cell_type": "code",
   "execution_count": 112,
   "metadata": {
    "collapsed": true
   },
   "outputs": [],
   "source": [
    "pref_dummies = pd.get_dummies(profiles.loc[0,'preferences'])\n",
    "for pref in preferences_lst:\n",
    "    if pref not in pref_dummies.columns:\n",
    "        pref_dummies[pref] = 0\n",
    "\n",
    "pref_one_hot = pref_dummies.max()"
   ]
  },
  {
   "cell_type": "code",
   "execution_count": 131,
   "metadata": {
    "collapsed": false
   },
   "outputs": [
    {
     "name": "stderr",
     "output_type": "stream",
     "text": [
      "/Users/JackKarafotas/anaconda/lib/python3.5/site-packages/pandas/indexes/base.py:2683: RuntimeWarning: unorderable types: str() < int(), sort order is undefined for incomparable objects\n",
      "  return this.join(other, how=how, return_indexers=return_indexers)\n"
     ]
    },
    {
     "data": {
      "text/plain": [
       "0.0"
      ]
     },
     "execution_count": 131,
     "metadata": {},
     "output_type": "execute_result"
    }
   ],
   "source": [
    "((pref_one_hot - row.astype(int)).apply(lambda x : abs(x))).sum()"
   ]
  },
  {
   "cell_type": "code",
   "execution_count": 136,
   "metadata": {
    "collapsed": false
   },
   "outputs": [],
   "source": [
    "loss = pd.Series(index=eat_out.index)\n",
    "for index, row in eat_out[preferences_lst].iterrows():\n",
    "    loss[index] = ((pref_one_hot - row.astype(int)).apply(lambda x : abs(x))).sum()"
   ]
  },
  {
   "cell_type": "code",
   "execution_count": 137,
   "metadata": {
    "collapsed": false
   },
   "outputs": [
    {
     "data": {
      "text/plain": [
       "0     3.0\n",
       "1     3.0\n",
       "2     4.0\n",
       "3     3.0\n",
       "4     3.0\n",
       "5     5.0\n",
       "6     6.0\n",
       "7     6.0\n",
       "8     5.0\n",
       "9     5.0\n",
       "10    2.0\n",
       "11    5.0\n",
       "12    3.0\n",
       "13    6.0\n",
       "14    5.0\n",
       "15    2.0\n",
       "16    3.0\n",
       "17    2.0\n",
       "18    2.0\n",
       "19    3.0\n",
       "20    4.0\n",
       "21    4.0\n",
       "22    4.0\n",
       "23    4.0\n",
       "24    4.0\n",
       "dtype: float64"
      ]
     },
     "execution_count": 137,
     "metadata": {},
     "output_type": "execute_result"
    }
   ],
   "source": [
    "loss"
   ]
  },
  {
   "cell_type": "code",
   "execution_count": null,
   "metadata": {
    "collapsed": true
   },
   "outputs": [],
   "source": [
    "def get_preferences(series):\n",
    "    "
   ]
  }
 ],
 "metadata": {
  "kernelspec": {
   "display_name": "Python 3",
   "language": "python",
   "name": "python3"
  },
  "language_info": {
   "codemirror_mode": {
    "name": "ipython",
    "version": 3
   },
   "file_extension": ".py",
   "mimetype": "text/x-python",
   "name": "python",
   "nbconvert_exporter": "python",
   "pygments_lexer": "ipython3",
   "version": "3.5.2"
  }
 },
 "nbformat": 4,
 "nbformat_minor": 2
}
